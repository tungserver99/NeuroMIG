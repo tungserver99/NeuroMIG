{
 "cells": [
  {
   "cell_type": "code",
   "execution_count": null,
   "metadata": {},
   "outputs": [],
   "source": [
    "!python main.py --wandb_prj neuromax_ecr_20NG_100K --model NeuroMax --dataset 20NG --num_topics 100 --beta_temp 0.2 --num_groups 40 --epochs 500 --device cuda:1 --lr 0.002 --lr_scheduler StepLR --dropout 0.1 --batch_size 200 --lr_step_size 125 --use_pretrainWE --weight_ECR 300 --weight_GR 1 --alpha_ECR 20.0 --alpha_GR 5.0 --weight_InfoNCE 100 --plm_model all-MiniLM-L6-v2"
   ]
  }
 ],
 "metadata": {
  "kernelspec": {
   "display_name": "TopiCOT",
   "language": "python",
   "name": "python3"
  },
  "language_info": {
   "codemirror_mode": {
    "name": "ipython",
    "version": 3
   },
   "file_extension": ".py",
   "mimetype": "text/x-python",
   "name": "python",
   "nbconvert_exporter": "python",
   "pygments_lexer": "ipython3",
   "version": "3.10.13"
  }
 },
 "nbformat": 4,
 "nbformat_minor": 2
}
